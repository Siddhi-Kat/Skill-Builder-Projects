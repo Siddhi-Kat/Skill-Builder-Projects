{
 "cells": [
  {
   "cell_type": "code",
   "execution_count": 2,
   "id": "8ec8e00c",
   "metadata": {},
   "outputs": [
    {
     "name": "stdout",
     "output_type": "stream",
     "text": [
      "1 2 Fizz 4 Buzz Fizz 7 8 Fizz Buzz 11 Fizz 13 14 FizzBuzz 16 17 Fizz 19 Buzz\n"
     ]
    }
   ],
   "source": [
    "from itertools import count, cycle, islice #to create genrators for infinite lists\n",
    "from functools import reduce\n",
    "\n",
    "\n",
    "def add_two(a, b): # adding the 3 streams\n",
    "    match((a, b)):\n",
    "        #case one : if one is input is none return the other \n",
    "        #case 2 : if one in integer and other is strinf return string\n",
    "        case (None, a) | (a, None) | (int(), str() as a) | (str() as a, int()):\n",
    "            return a\n",
    "        #case 3 : if both are strings , concat them\n",
    "        case (str() as a, str() as b):\n",
    "            return a + b\n",
    "\n",
    "\n",
    "def add(args):\n",
    "    return reduce(add_two, args)# to pass only 2 elemts as parameters from infimite list at a time\n",
    "\n",
    "# Creating 3 infinite streams that look like this\n",
    "# 1    2    3    4    5    6    7    8    9    10   11   12   13   14   15   ...\n",
    "# .    .    Fizz .    .    Fizz .    .    Fizz .    .    Fizz .    .    Fizz ...\n",
    "# .    .    .    .    Buzz .    .    .    .    Buzz .    .    .    .    Buzz ...\n",
    "\n",
    "nums = count(start=1) # stream 1 \n",
    "fizz = cycle([None, None, \"Fizz\"]) # For divisble by 3 : stream 2\n",
    "buzz = cycle([None, None, None, None, \"Buzz\"]) # for divisbility by 5 : stream 3\n",
    "# boom = cycle([None, None, None, \"Boom\"]) # for divisbility by 4\n",
    "\n",
    "combined_stream = zip(nums, fizz, buzz)# pairing the elements of all 3 stream by its position\n",
    "output = map(add, combined_stream) # running the function for each element in the stream\n",
    "\n",
    "print(*islice(output, 20), sep=' ')"
   ]
  },
  {
   "cell_type": "code",
   "execution_count": null,
   "id": "df99bf8a",
   "metadata": {},
   "outputs": [],
   "source": []
  }
 ],
 "metadata": {
  "kernelspec": {
   "display_name": "Python 3",
   "language": "python",
   "name": "python3"
  },
  "language_info": {
   "codemirror_mode": {
    "name": "ipython",
    "version": 3
   },
   "file_extension": ".py",
   "mimetype": "text/x-python",
   "name": "python",
   "nbconvert_exporter": "python",
   "pygments_lexer": "ipython3",
   "version": "3.11.9"
  }
 },
 "nbformat": 4,
 "nbformat_minor": 5
}
